{
 "cells": [
  {
   "cell_type": "code",
   "execution_count": 1,
   "metadata": {},
   "outputs": [],
   "source": [
    "import numpy as np\n",
    "import scipy.signal as sp"
   ]
  },
  {
   "cell_type": "code",
   "execution_count": 10,
   "metadata": {},
   "outputs": [],
   "source": [
    "def find_template_1D(t, s):\n",
    "    # TODO: Locate template t in signal s and return index. Use scipy.signal.correlate2d\n",
    "    correlation = sp.correlate2d(s, t)\n",
    "    print('Correlation: ', correlation)\n",
    "    return np.argmax(correlation) - t.shape[1] + 1\n"
   ]
  },
  {
   "cell_type": "code",
   "execution_count": 11,
   "metadata": {},
   "outputs": [
    {
     "name": "stdout",
     "output_type": "stream",
     "text": [
      "Signal: \n",
      " [ 0  1  2  3  4  5  6  7  8  9 10 11 12 13 14] \n",
      " [-1  0  0  5  1  1  0  0 -1 -7  2  1  0  0 -1]\n",
      "Template: \n",
      " [0 1 2] \n",
      " [-1 -7  2]\n",
      "Correlation:  [[ -2   7   1  10 -33 -10  -8  -1  -2  -7  54  -5  -9  -1  -2   7   1]]\n",
      "Index: 8\n"
     ]
    }
   ],
   "source": [
    "s = np.array([[-1, 0, 0, 5, 1, 1, 0, 0, -1, -7, 2, 1, 0, 0, -1]])\n",
    "t = np.array([[-1, -7, 2]])\n",
    "\n",
    "print(\"Signal: \\n {} \\n {}\".format(np.array(range(s.shape[1])), s[0]))\n",
    "print(\"Template: \\n {} \\n {}\".format(np.array(range(t.shape[1])), t[0]))\n",
    "\n",
    "index = find_template_1D(t, s)\n",
    "print(\"Index: {}\".format(index))"
   ]
  }
 ],
 "metadata": {
  "kernelspec": {
   "display_name": "python3.7",
   "language": "python",
   "name": "python3.7"
  },
  "language_info": {
   "codemirror_mode": {
    "name": "ipython",
    "version": 3
   },
   "file_extension": ".py",
   "mimetype": "text/x-python",
   "name": "python",
   "nbconvert_exporter": "python",
   "pygments_lexer": "ipython3",
   "version": "3.7.6"
  }
 },
 "nbformat": 4,
 "nbformat_minor": 4
}
