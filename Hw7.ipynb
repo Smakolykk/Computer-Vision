{
 "cells": [
  {
   "cell_type": "code",
   "execution_count": 3,
   "metadata": {},
   "outputs": [],
   "source": [
    "import cv2\n",
    "import numpy as np"
   ]
  },
  {
   "cell_type": "code",
   "execution_count": 29,
   "metadata": {},
   "outputs": [],
   "source": [
    "# Project a point from 3D to 2D using a matrix operation\n",
    "\n",
    "# Given: Point p in 3-space [x y z], and focal length f\n",
    "# Return: Location of projected point on 2D image plane [u v]\n",
    "\n",
    "\n",
    "def project_point(p, f):\n",
    "    # TODO: Define and apply projection matrix\n",
    "    proj_matrix = np.array([\n",
    "        [f, 0, 0, 0],\n",
    "        [0, f, 0, 0],\n",
    "        [0, 0, 1, 0]\n",
    "    ])\n",
    "    res = np.concatenate((p, np.zeros((1,1))),1).T\n",
    "    return proj_matrix.dot(res).T\n"
   ]
  },
  {
   "cell_type": "code",
   "execution_count": 30,
   "metadata": {},
   "outputs": [
    {
     "name": "stdout",
     "output_type": "stream",
     "text": [
      "[[10000.  5000.   120.]]\n"
     ]
    }
   ],
   "source": [
    "# Test: Given point and focal length (units: mm)\n",
    "p = np.array([[200, 100, 120]])\n",
    "f = 50\n",
    "\n",
    "print (project_point(p, f))"
   ]
  }
 ],
 "metadata": {
  "kernelspec": {
   "display_name": "python3.7",
   "language": "python",
   "name": "python3.7"
  },
  "language_info": {
   "codemirror_mode": {
    "name": "ipython",
    "version": 3
   },
   "file_extension": ".py",
   "mimetype": "text/x-python",
   "name": "python",
   "nbconvert_exporter": "python",
   "pygments_lexer": "ipython3",
   "version": "3.7.6"
  }
 },
 "nbformat": 4,
 "nbformat_minor": 4
}
